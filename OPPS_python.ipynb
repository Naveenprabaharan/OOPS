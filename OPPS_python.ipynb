{
 "cells": [
  {
   "cell_type": "markdown",
   "id": "b0bb6ae8",
   "metadata": {},
   "source": [
    "# Class"
   ]
  },
  {
   "cell_type": "code",
   "execution_count": 3,
   "id": "0c107984",
   "metadata": {},
   "outputs": [],
   "source": [
    "class dog():\n",
    "    attr1 = 'mammal'\n",
    "    \n",
    "    def __init__(self,name):\n",
    "        self.name = name\n",
    "        "
   ]
  },
  {
   "cell_type": "code",
   "execution_count": 4,
   "id": "6bb6d669",
   "metadata": {},
   "outputs": [],
   "source": [
    "# creating object\n",
    "Rodger = dog('Rodger')\n",
    "Tommy = dog('Tommy')"
   ]
  },
  {
   "cell_type": "code",
   "execution_count": 6,
   "id": "a51969c2",
   "metadata": {},
   "outputs": [
    {
     "name": "stdout",
     "output_type": "stream",
     "text": [
      "rodger is a type of  mammal\n",
      "Tommy is a type of  mammal\n"
     ]
    }
   ],
   "source": [
    "print(\"rodger is a type of \",Rodger.__class__.attr1)\n",
    "print('Tommy is a type of ',Tommy.__class__.attr1)"
   ]
  },
  {
   "cell_type": "code",
   "execution_count": 9,
   "id": "9d5d5128",
   "metadata": {
    "scrolled": true
   },
   "outputs": [
    {
     "name": "stdout",
     "output_type": "stream",
     "text": [
      "Rodegr name is  Rodger\n",
      "Tommy name is  Tommy\n"
     ]
    }
   ],
   "source": [
    "print(\"Rodegr name is \",Rodger.name)\n",
    "print(\"Tommy name is \",Tommy.name)"
   ]
  },
  {
   "cell_type": "markdown",
   "id": "55fc755e",
   "metadata": {},
   "source": [
    "# class with object"
   ]
  },
  {
   "cell_type": "code",
   "execution_count": 15,
   "id": "979a0502",
   "metadata": {},
   "outputs": [],
   "source": [
    "class Cat():\n",
    "    atr1 = 'Mammal'\n",
    "    def __init__(self,name):\n",
    "        self.name = name\n",
    "    \n",
    "    #define methodes\n",
    "    def speak(self):\n",
    "        print('my name is ',self.name)"
   ]
  },
  {
   "cell_type": "code",
   "execution_count": 16,
   "id": "1c703df0",
   "metadata": {},
   "outputs": [
    {
     "name": "stdout",
     "output_type": "stream",
     "text": [
      "my name is  Ponnan\n"
     ]
    }
   ],
   "source": [
    "ponnan = Cat('Ponnan')\n",
    "ponnan.speak()"
   ]
  },
  {
   "cell_type": "markdown",
   "id": "27175680",
   "metadata": {},
   "source": [
    "# Inheritance\n",
    "\n",
    "##### deriving property from parent class\n",
    "    `Single inheritance`\n",
    "    `Multilevel inheritance`\n",
    "    `Multiple inheritance`\n",
    "    `Hierarchy inheritance`\n",
    "    `HyBrid inheritance`"
   ]
  },
  {
   "cell_type": "code",
   "execution_count": 29,
   "id": "beb18559",
   "metadata": {},
   "outputs": [],
   "source": [
    "# base calss\n",
    "class Person():\n",
    "    def __init__(self,name,id_no):\n",
    "        self.name = name\n",
    "        self.id_no = id_no\n",
    "    \n",
    "    def display(self):\n",
    "        print(self.name)\n",
    "        print(self.id_no)\n",
    "        \n",
    "    def details(self):\n",
    "        print(\"My name is\", self.name)\n",
    "        print(\"My id_no is\",self.id_no)\n",
    "        \n",
    "        \n",
    "# child class\n",
    "class Employee(Person):\n",
    "    \n",
    "    def __init__(self,name,id_no,salary,des):\n",
    "        self.salary = salary\n",
    "        self.des = des\n",
    "        Person.__init__(self,name,id_no)\n",
    "        \n",
    "    def details(self):\n",
    "        print(\"My name is\", self.name)\n",
    "        print(\"My id_no is\",self.id_no)\n",
    "        print(\"my des is\",self.des)"
   ]
  },
  {
   "cell_type": "code",
   "execution_count": 30,
   "id": "bb57976e",
   "metadata": {},
   "outputs": [
    {
     "name": "stdout",
     "output_type": "stream",
     "text": [
      "kumar\n",
      "101\n"
     ]
    }
   ],
   "source": [
    "Kumar = Employee('kumar',101,200000,'Manager')\n",
    "Kumar.display()"
   ]
  },
  {
   "cell_type": "code",
   "execution_count": 32,
   "id": "e0b6a047",
   "metadata": {},
   "outputs": [
    {
     "name": "stdout",
     "output_type": "stream",
     "text": [
      "My name is kumar\n",
      "My id_no is 101\n",
      "my des is Manager\n"
     ]
    }
   ],
   "source": [
    "Kumar.details()"
   ]
  },
  {
   "cell_type": "markdown",
   "id": "8c5fd80d",
   "metadata": {},
   "source": [
    "# Polymorphsim\n",
    "## Having many Forms\n",
    "### 1.Overrideing\n",
    "### 2. Over Loading"
   ]
  },
  {
   "cell_type": "code",
   "execution_count": 39,
   "id": "47d4f52d",
   "metadata": {},
   "outputs": [],
   "source": [
    "# over riding\n",
    "\n",
    "#parent class\n",
    "class Birds():\n",
    "    def intro(self):\n",
    "        print('In the World lot of birds is there')\n",
    "    def flight(self):\n",
    "        print('some birds can fly some may not')\n",
    "        \n",
    "# Child class\n",
    "class Sparrow(Birds):\n",
    "    def flight(self):\n",
    "        print(\"the sparrow can fly\")\n",
    "        \n",
    "# child class\n",
    "class Ortrich(Birds):\n",
    "    def flight(self):\n",
    "        print(\"Ortrich can't fly\")"
   ]
  },
  {
   "cell_type": "code",
   "execution_count": 40,
   "id": "f85bc5ac",
   "metadata": {},
   "outputs": [
    {
     "name": "stdout",
     "output_type": "stream",
     "text": [
      "the sparrow can fly\n"
     ]
    }
   ],
   "source": [
    "sparrow = Sparrow()\n",
    "sparrow.flight()"
   ]
  },
  {
   "cell_type": "code",
   "execution_count": 41,
   "id": "532bb2ce",
   "metadata": {},
   "outputs": [
    {
     "name": "stdout",
     "output_type": "stream",
     "text": [
      "Ortrich can't fly\n"
     ]
    }
   ],
   "source": [
    "ortrich = Ortrich()\n",
    "ortrich.flight()"
   ]
  },
  {
   "cell_type": "code",
   "execution_count": 50,
   "id": "56ff2cfa",
   "metadata": {},
   "outputs": [],
   "source": [
    "# over loading\n",
    "#parent class\n",
    "class Birds():\n",
    "    def intro(self):\n",
    "        print('In the World lot of birds is there')\n",
    "    def flight(self,name1):\n",
    "        print('some birds can fly example ',name)\n",
    "    \n",
    "        \n",
    "class child_birds(Birds):\n",
    "    def flight(self,name1,name2):\n",
    "        print('Some birdds can fly for ex: ',name1,\" Some birds can't fly for Ex\",name2)\n",
    "        "
   ]
  },
  {
   "cell_type": "code",
   "execution_count": 51,
   "id": "1308cfa2",
   "metadata": {},
   "outputs": [
    {
     "name": "stdout",
     "output_type": "stream",
     "text": [
      "In the World lot of birds is there\n"
     ]
    }
   ],
   "source": [
    "birds = child_birds()\n",
    "birds.intro()"
   ]
  },
  {
   "cell_type": "code",
   "execution_count": 53,
   "id": "3fcf2bbe",
   "metadata": {
    "scrolled": true
   },
   "outputs": [
    {
     "name": "stdout",
     "output_type": "stream",
     "text": [
      "Some birdds can fly for ex:  sparrow  Some birds can't fly for Ex kumar\n"
     ]
    }
   ],
   "source": [
    "birds.flight('sparrow','kumar')"
   ]
  },
  {
   "cell_type": "code",
   "execution_count": 59,
   "id": "a75c64bb",
   "metadata": {},
   "outputs": [
    {
     "name": "stdout",
     "output_type": "stream",
     "text": [
      "Requirement already satisfied: multipledispatch in c:\\users\\navee\\anaconda3\\lib\\site-packages (0.6.0)\n",
      "Requirement already satisfied: six in c:\\users\\navee\\anaconda3\\lib\\site-packages (from multipledispatch) (1.16.0)\n"
     ]
    }
   ],
   "source": [
    "!pip install multipledispatch"
   ]
  },
  {
   "cell_type": "code",
   "execution_count": 87,
   "id": "3c072b19",
   "metadata": {},
   "outputs": [],
   "source": [
    "from multipledispatch import dispatch"
   ]
  },
  {
   "cell_type": "code",
   "execution_count": 67,
   "id": "3b93af3d",
   "metadata": {},
   "outputs": [],
   "source": [
    "@dispatch(int,int)\n",
    "def prod(a,b):\n",
    "    print(\"int  :\",a*b)\n",
    "    \n",
    "@dispatch(float,float)\n",
    "def prod(a,b):\n",
    "    print('float : ',a*b)"
   ]
  },
  {
   "cell_type": "code",
   "execution_count": 68,
   "id": "a2b88167",
   "metadata": {},
   "outputs": [
    {
     "name": "stdout",
     "output_type": "stream",
     "text": [
      "float :  51.92000000000001\n"
     ]
    }
   ],
   "source": [
    "prod(5.9,8.8)"
   ]
  },
  {
   "cell_type": "code",
   "execution_count": 69,
   "id": "ae4a6a41",
   "metadata": {},
   "outputs": [
    {
     "name": "stdout",
     "output_type": "stream",
     "text": [
      "int  : 8\n"
     ]
    }
   ],
   "source": [
    "prod(2,4)"
   ]
  },
  {
   "cell_type": "code",
   "execution_count": 58,
   "id": "f71971fb",
   "metadata": {},
   "outputs": [
    {
     "name": "stdout",
     "output_type": "stream",
     "text": [
      "9\n"
     ]
    }
   ],
   "source": [
    "print(3*3)"
   ]
  },
  {
   "cell_type": "markdown",
   "id": "11b2d899",
   "metadata": {},
   "source": [
    "# Encapsulation\n",
    "### Encapsulating datamember like hiding for direct changes\n"
   ]
  },
  {
   "cell_type": "code",
   "execution_count": null,
   "id": "d3e5f27e",
   "metadata": {},
   "outputs": [],
   "source": []
  },
  {
   "cell_type": "code",
   "execution_count": 75,
   "id": "e92f1bad",
   "metadata": {},
   "outputs": [],
   "source": [
    "class Parent():\n",
    "    def __init__(self):\n",
    "        self.a = 'naveen'\n",
    "        self.__b = 'kumar'\n",
    "        \n",
    "class child(Parent):\n",
    "    def __init__(self):\n",
    "        Parent.__init__(self)\n",
    "        print(self.__b)\n",
    "        "
   ]
  },
  {
   "cell_type": "code",
   "execution_count": 76,
   "id": "5a946851",
   "metadata": {},
   "outputs": [
    {
     "name": "stdout",
     "output_type": "stream",
     "text": [
      "naveen\n"
     ]
    }
   ],
   "source": [
    "obj1 = Parent()\n",
    "print(obj1.a)"
   ]
  },
  {
   "cell_type": "code",
   "execution_count": 77,
   "id": "9a691b46",
   "metadata": {},
   "outputs": [
    {
     "ename": "AttributeError",
     "evalue": "'Parent' object has no attribute '__b'",
     "output_type": "error",
     "traceback": [
      "\u001b[1;31m---------------------------------------------------------------------------\u001b[0m",
      "\u001b[1;31mAttributeError\u001b[0m                            Traceback (most recent call last)",
      "\u001b[1;32m~\\AppData\\Local\\Temp/ipykernel_2652/1341821135.py\u001b[0m in \u001b[0;36m<module>\u001b[1;34m\u001b[0m\n\u001b[0;32m      1\u001b[0m \u001b[1;31m# shwoing attribte error due to encapsulation\u001b[0m\u001b[1;33m\u001b[0m\u001b[1;33m\u001b[0m\u001b[0m\n\u001b[1;32m----> 2\u001b[1;33m \u001b[0mprint\u001b[0m\u001b[1;33m(\u001b[0m\u001b[0mobj1\u001b[0m\u001b[1;33m.\u001b[0m\u001b[0m__b\u001b[0m\u001b[1;33m)\u001b[0m\u001b[1;33m\u001b[0m\u001b[1;33m\u001b[0m\u001b[0m\n\u001b[0m",
      "\u001b[1;31mAttributeError\u001b[0m: 'Parent' object has no attribute '__b'"
     ]
    }
   ],
   "source": [
    "# shwoing attribte error due to encapsulation\n",
    "print(obj1.__b)"
   ]
  },
  {
   "cell_type": "code",
   "execution_count": 78,
   "id": "f2f58d3b",
   "metadata": {},
   "outputs": [
    {
     "ename": "AttributeError",
     "evalue": "'child' object has no attribute '_child__b'",
     "output_type": "error",
     "traceback": [
      "\u001b[1;31m---------------------------------------------------------------------------\u001b[0m",
      "\u001b[1;31mAttributeError\u001b[0m                            Traceback (most recent call last)",
      "\u001b[1;32m~\\AppData\\Local\\Temp/ipykernel_2652/2094091378.py\u001b[0m in \u001b[0;36m<module>\u001b[1;34m\u001b[0m\n\u001b[1;32m----> 1\u001b[1;33m \u001b[0mobj2\u001b[0m \u001b[1;33m=\u001b[0m \u001b[0mchild\u001b[0m\u001b[1;33m(\u001b[0m\u001b[1;33m)\u001b[0m\u001b[1;33m\u001b[0m\u001b[1;33m\u001b[0m\u001b[0m\n\u001b[0m",
      "\u001b[1;32m~\\AppData\\Local\\Temp/ipykernel_2652/1906000513.py\u001b[0m in \u001b[0;36m__init__\u001b[1;34m(self)\u001b[0m\n\u001b[0;32m      7\u001b[0m     \u001b[1;32mdef\u001b[0m \u001b[0m__init__\u001b[0m\u001b[1;33m(\u001b[0m\u001b[0mself\u001b[0m\u001b[1;33m)\u001b[0m\u001b[1;33m:\u001b[0m\u001b[1;33m\u001b[0m\u001b[1;33m\u001b[0m\u001b[0m\n\u001b[0;32m      8\u001b[0m         \u001b[0mParent\u001b[0m\u001b[1;33m.\u001b[0m\u001b[0m__init__\u001b[0m\u001b[1;33m(\u001b[0m\u001b[0mself\u001b[0m\u001b[1;33m)\u001b[0m\u001b[1;33m\u001b[0m\u001b[1;33m\u001b[0m\u001b[0m\n\u001b[1;32m----> 9\u001b[1;33m         \u001b[0mprint\u001b[0m\u001b[1;33m(\u001b[0m\u001b[0mself\u001b[0m\u001b[1;33m.\u001b[0m\u001b[0m__b\u001b[0m\u001b[1;33m)\u001b[0m\u001b[1;33m\u001b[0m\u001b[1;33m\u001b[0m\u001b[0m\n\u001b[0m\u001b[0;32m     10\u001b[0m \u001b[1;33m\u001b[0m\u001b[0m\n",
      "\u001b[1;31mAttributeError\u001b[0m: 'child' object has no attribute '_child__b'"
     ]
    }
   ],
   "source": [
    "obj2 = child()"
   ]
  },
  {
   "cell_type": "markdown",
   "id": "d05ea504",
   "metadata": {},
   "source": [
    "# Abstraction\n",
    "### hiding internal function"
   ]
  },
  {
   "cell_type": "code",
   "execution_count": 81,
   "id": "0913ebbb",
   "metadata": {},
   "outputs": [],
   "source": [
    "from abc import ABC,abstractmethod"
   ]
  },
  {
   "cell_type": "code",
   "execution_count": 85,
   "id": "0a0349e4",
   "metadata": {},
   "outputs": [
    {
     "name": "stdout",
     "output_type": "stream",
     "text": [
      "I am a Medical college!\n",
      "I am a Engineering college!\n",
      "I am a Art and science college!\n"
     ]
    }
   ],
   "source": [
    "#abstarct class - the definition are hiding\n",
    "class college(ABC):\n",
    "    def type(self):\n",
    "        pass\n",
    "\n",
    "class Mcollege(college):\n",
    "    def type(self):\n",
    "        print(\"I am a Medical college!\")\n",
    "\n",
    "class Ecollege(college):\n",
    "    def type(self):\n",
    "        print(\"I am a Engineering college!\")\n",
    "\n",
    "class AScollege(college):\n",
    "    def type(self):\n",
    "        print(\"I am a Art and science college!\")\n",
    "\n",
    "        \n",
    "# creating obj\n",
    "m = Mcollege()\n",
    "m.type()\n",
    "\n",
    "e = Ecollege()\n",
    "e.type()\n",
    "\n",
    "a = AScollege()\n",
    "a.type()"
   ]
  },
  {
   "cell_type": "code",
   "execution_count": 94,
   "id": "1a0bc347",
   "metadata": {},
   "outputs": [],
   "source": [
    "from multipledispatch import dispatch\n",
    "from abc import ABC, abstractmethod"
   ]
  },
  {
   "cell_type": "code",
   "execution_count": 89,
   "id": "60d47ab8",
   "metadata": {},
   "outputs": [],
   "source": [
    "from multipledispatch import dispatch"
   ]
  }
 ],
 "metadata": {
  "kernelspec": {
   "display_name": "Python 3 (ipykernel)",
   "language": "python",
   "name": "python3"
  },
  "language_info": {
   "codemirror_mode": {
    "name": "ipython",
    "version": 3
   },
   "file_extension": ".py",
   "mimetype": "text/x-python",
   "name": "python",
   "nbconvert_exporter": "python",
   "pygments_lexer": "ipython3",
   "version": "3.9.7"
  }
 },
 "nbformat": 4,
 "nbformat_minor": 5
}
